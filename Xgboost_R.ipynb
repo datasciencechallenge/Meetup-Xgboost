{
 "cells": [
  {
   "cell_type": "markdown",
   "metadata": {},
   "source": [
    "# Xgboost workshop (python version)\n",
    "by Qi XU & Maxime KINET"
   ]
  },
  {
   "cell_type": "markdown",
   "metadata": {},
   "source": [
    "# Competition: B2C - Predict conversion rates on breakdown services"
   ]
  },
  {
   "cell_type": "markdown",
   "metadata": {},
   "source": [
    "For more detail see https://datascience-challenge.engie.com/#/challenge/28733"
   ]
  },
  {
   "cell_type": "markdown",
   "metadata": {},
   "source": [
    "# Import Xgboost and other packages "
   ]
  },
  {
   "cell_type": "code",
   "execution_count": 1,
   "metadata": {
    "collapsed": false
   },
   "outputs": [],
   "source": [
    "# install the package if you haven't do it before\n",
    "#install.packages(\"xgboost\", repos=\"http://cran.rstudio.com/\")\n",
    "#install.packages(\"Ckmeans.1d.dp\",repos=\"http://cran.rstudio.com/\")\n",
    "library(xgboost)\n",
    "library(Ckmeans.1d.dp)"
   ]
  },
  {
   "cell_type": "markdown",
   "metadata": {},
   "source": [
    "# Now we need to load the train and test data sets"
   ]
  },
  {
   "cell_type": "code",
   "execution_count": 2,
   "metadata": {
    "collapsed": false
   },
   "outputs": [
    {
     "data": {
      "text/html": [
       "<table>\n",
       "<thead><tr><th></th><th scope=col>DT_DEBT_ASSR</th><th scope=col>TYPE_OFFRE_GAZ</th><th scope=col>Tarif_ach</th><th scope=col>CODE_TYPE_COMPTAGE</th><th scope=col>PUIS_SOUS</th><th scope=col>PAYEUR_DIVERG</th><th scope=col>OFFRE</th><th scope=col>CAP_EC</th><th scope=col>CODE_STATUT_LOGEMENT</th><th scope=col>CODE_TYPE_HABITAT</th><th scope=col>...</th><th scope=col>LB_PROF_PAYR</th><th scope=col>souscrit</th><th scope=col>ass_fact</th><th scope=col>CRC</th><th scope=col>PARTENAIRES</th><th scope=col>MAILING</th><th scope=col>PAP</th><th scope=col>DARTY</th><th scope=col>TV</th><th scope=col>produit</th></tr></thead>\n",
       "<tbody>\n",
       "\t<tr><th scope=row>1</th><td>2015-11-24               </td><td>OM                       </td><td>T2                       </td><td>SIMP                     </td><td>6                        </td><td>0                        </td><td>DUAL                     </td><td>0                        </td><td>PRV                      </td><td>H1                       </td><td>...                      </td><td>SANS INCIDENT DE PAIEMENT</td><td>0                        </td><td>0                        </td><td>2                        </td><td>0                        </td><td>0                        </td><td>0                        </td><td>0                        </td><td>0                        </td><td>DEGEX+                   </td></tr>\n",
       "\t<tr><th scope=row>2</th><td>2015-08-27               </td><td>OM                       </td><td>T2                       </td><td>SIMP                     </td><td>6                        </td><td>0                        </td><td>DUAL                     </td><td>0                        </td><td>PRV                      </td><td>H1                       </td><td>...                      </td><td>RISQUE FAIBLE - CONFIANCE</td><td>0                        </td><td>0                        </td><td>0                        </td><td>0                        </td><td>0                        </td><td>0                        </td><td>0                        </td><td>2                        </td><td>DEGEX+                   </td></tr>\n",
       "</tbody>\n",
       "</table>\n"
      ],
      "text/latex": [
       "\\begin{tabular}{r|llllllllllllllllllllllllllllllllllllllllll}\n",
       "  & DT\\_DEBT\\_ASSR & TYPE\\_OFFRE\\_GAZ & Tarif\\_ach & CODE\\_TYPE\\_COMPTAGE & PUIS\\_SOUS & PAYEUR\\_DIVERG & OFFRE & CAP\\_EC & CODE\\_STATUT\\_LOGEMENT & CODE\\_TYPE\\_HABITAT & ... & LB\\_PROF\\_PAYR & souscrit & ass\\_fact & CRC & PARTENAIRES & MAILING & PAP & DARTY & TV & produit\\\\\n",
       "\\hline\n",
       "\t1 & 2015-11-24                & OM                        & T2                        & SIMP                      & 6                         & 0                         & DUAL                      & 0                         & PRV                       & H1                        & ...                       & SANS INCIDENT DE PAIEMENT & 0                         & 0                         & 2                         & 0                         & 0                         & 0                         & 0                         & 0                         & DEGEX+                   \\\\\n",
       "\t2 & 2015-08-27                & OM                        & T2                        & SIMP                      & 6                         & 0                         & DUAL                      & 0                         & PRV                       & H1                        & ...                       & RISQUE FAIBLE - CONFIANCE & 0                         & 0                         & 0                         & 0                         & 0                         & 0                         & 0                         & 2                         & DEGEX+                   \\\\\n",
       "\\end{tabular}\n"
      ],
      "text/plain": [
       "  DT_DEBT_ASSR TYPE_OFFRE_GAZ Tarif_ach CODE_TYPE_COMPTAGE PUIS_SOUS\n",
       "1   2015-11-24             OM        T2               SIMP         6\n",
       "2   2015-08-27             OM        T2               SIMP         6\n",
       "  PAYEUR_DIVERG OFFRE CAP_EC CODE_STATUT_LOGEMENT CODE_TYPE_HABITAT ...\n",
       "1             0  DUAL      0                  PRV                H1 ...\n",
       "2             0  DUAL      0                  PRV                H1 ...\n",
       "               LB_PROF_PAYR souscrit ass_fact CRC PARTENAIRES MAILING PAP DARTY\n",
       "1 SANS INCIDENT DE PAIEMENT        0        0   2           0       0   0     0\n",
       "2 RISQUE FAIBLE - CONFIANCE        0        0   0           0       0   0     0\n",
       "  TV produit\n",
       "1  0  DEGEX+\n",
       "2  2  DEGEX+"
      ]
     },
     "metadata": {},
     "output_type": "display_data"
    }
   ],
   "source": [
    "fold_ad = \"C:/Users/IA2069/Documents/MK2016/\"\n",
    "train=read.csv(paste0(fold_ad,\"train.CSV\"))\n",
    "goal = train$souscrit\n",
    "head(train,n = 2) # head() shows the N first rows (default =6) of the data set (or DataFrame)"
   ]
  },
  {
   "cell_type": "code",
   "execution_count": 3,
   "metadata": {
    "collapsed": false
   },
   "outputs": [
    {
     "data": {
      "text/html": [
       "<table>\n",
       "<thead><tr><th></th><th scope=col>DT_DEBT_ASSR</th><th scope=col>TYPE_OFFRE_GAZ</th><th scope=col>Tarif_ach</th><th scope=col>CODE_TYPE_COMPTAGE</th><th scope=col>PUIS_SOUS</th><th scope=col>PAYEUR_DIVERG</th><th scope=col>OFFRE</th><th scope=col>CAP_EC</th><th scope=col>CODE_STATUT_LOGEMENT</th><th scope=col>CODE_TYPE_HABITAT</th><th scope=col>...</th><th scope=col>nb_contact_entrant</th><th scope=col>LB_PROF_PAYR</th><th scope=col>ass_fact</th><th scope=col>CRC</th><th scope=col>PARTENAIRES</th><th scope=col>MAILING</th><th scope=col>PAP</th><th scope=col>DARTY</th><th scope=col>TV</th><th scope=col>produit</th></tr></thead>\n",
       "<tbody>\n",
       "\t<tr><th scope=row>1</th><td>2015-11-03               </td><td>OM                       </td><td>T2                       </td><td>SIMP                     </td><td>6                        </td><td>0                        </td><td>DUAL                     </td><td>0                        </td><td>PRV                      </td><td>H1                       </td><td>...                      </td><td>6                        </td><td>SANS INCIDENT DE PAIEMENT</td><td>0                        </td><td>4                        </td><td>0                        </td><td>0                        </td><td>0                        </td><td>0                        </td><td>0                        </td><td>DEGEX+                   </td></tr>\n",
       "\t<tr><th scope=row>2</th><td>2015-08-27               </td><td>OM                       </td><td>T1                       </td><td>SIMP                     </td><td>6                        </td><td>0                        </td><td>DUAL                     </td><td>0                        </td><td>PRV                      </td><td>H2                       </td><td>...                      </td><td>0                        </td><td>SANS INCIDENT DE PAIEMENT</td><td>0                        </td><td>0                        </td><td>2                        </td><td>0                        </td><td>0                        </td><td>0                        </td><td>0                        </td><td>DEPEX+                   </td></tr>\n",
       "</tbody>\n",
       "</table>\n"
      ],
      "text/latex": [
       "\\begin{tabular}{r|lllllllllllllllllllllllllllllllllllllllll}\n",
       "  & DT\\_DEBT\\_ASSR & TYPE\\_OFFRE\\_GAZ & Tarif\\_ach & CODE\\_TYPE\\_COMPTAGE & PUIS\\_SOUS & PAYEUR\\_DIVERG & OFFRE & CAP\\_EC & CODE\\_STATUT\\_LOGEMENT & CODE\\_TYPE\\_HABITAT & ... & nb\\_contact\\_entrant & LB\\_PROF\\_PAYR & ass\\_fact & CRC & PARTENAIRES & MAILING & PAP & DARTY & TV & produit\\\\\n",
       "\\hline\n",
       "\t1 & 2015-11-03                & OM                        & T2                        & SIMP                      & 6                         & 0                         & DUAL                      & 0                         & PRV                       & H1                        & ...                       & 6                         & SANS INCIDENT DE PAIEMENT & 0                         & 4                         & 0                         & 0                         & 0                         & 0                         & 0                         & DEGEX+                   \\\\\n",
       "\t2 & 2015-08-27                & OM                        & T1                        & SIMP                      & 6                         & 0                         & DUAL                      & 0                         & PRV                       & H2                        & ...                       & 0                         & SANS INCIDENT DE PAIEMENT & 0                         & 0                         & 2                         & 0                         & 0                         & 0                         & 0                         & DEPEX+                   \\\\\n",
       "\\end{tabular}\n"
      ],
      "text/plain": [
       "  DT_DEBT_ASSR TYPE_OFFRE_GAZ Tarif_ach CODE_TYPE_COMPTAGE PUIS_SOUS\n",
       "1   2015-11-03             OM        T2               SIMP         6\n",
       "2   2015-08-27             OM        T1               SIMP         6\n",
       "  PAYEUR_DIVERG OFFRE CAP_EC CODE_STATUT_LOGEMENT CODE_TYPE_HABITAT ...\n",
       "1             0  DUAL      0                  PRV                H1 ...\n",
       "2             0  DUAL      0                  PRV                H2 ...\n",
       "  nb_contact_entrant              LB_PROF_PAYR ass_fact CRC PARTENAIRES MAILING\n",
       "1                  6 SANS INCIDENT DE PAIEMENT        0   4           0       0\n",
       "2                  0 SANS INCIDENT DE PAIEMENT        0   0           2       0\n",
       "  PAP DARTY TV produit\n",
       "1   0     0  0  DEGEX+\n",
       "2   0     0  0  DEPEX+"
      ]
     },
     "metadata": {},
     "output_type": "display_data"
    }
   ],
   "source": [
    "test=read.csv(paste0(fold_ad,\"test.CSV\"))\n",
    "head(test,n=2)"
   ]
  },
  {
   "cell_type": "markdown",
   "metadata": {},
   "source": [
    "# PRE PROCESSING "
   ]
  },
  {
   "cell_type": "code",
   "execution_count": 4,
   "metadata": {
    "collapsed": false
   },
   "outputs": [
    {
     "data": {
      "text/html": [
       "<ol class=list-inline>\n",
       "\t<li>254945</li>\n",
       "\t<li>42</li>\n",
       "</ol>\n"
      ],
      "text/latex": [
       "\\begin{enumerate*}\n",
       "\\item 254945\n",
       "\\item 42\n",
       "\\end{enumerate*}\n"
      ],
      "text/markdown": [
       "1. 254945\n",
       "2. 42\n",
       "\n",
       "\n"
      ],
      "text/plain": [
       "[1] 254945     42"
      ]
     },
     "metadata": {},
     "output_type": "display_data"
    }
   ],
   "source": [
    "test$souscrit <- NA # before merging the two sets we need to have the same number of columns\n",
    "db <- rbind(train,test)#to join two dataframe vertically (=adding rows) we use rbind function\n",
    "dim(db)"
   ]
  },
  {
   "cell_type": "code",
   "execution_count": 5,
   "metadata": {
    "collapsed": true
   },
   "outputs": [],
   "source": [
    "# fill empty values\n",
    "# replace by mean\n",
    "db$AGE_TR_PRED_FMT[is.na(db$AGE_TR_PRED_FMT)] <- mean(db$AGE_TR_PRED_FMT,na.rm=T) \n",
    "db$REVENU_IRIS[is.na(db$REVENU_IRIS)]= mean(db$REVENU_IRIS,na.rm=T)\n",
    "db$CAR_CHAR[is.na(db$CAR_CHAR)] =mean(db$CAR_CHAR,na.rm=T)\n",
    "db$CODE_INSEE[is.na(db$CODE_INSEE)] =mean(db$CODE_INSEE,na.rm=T)\n",
    "db$CRC[is.na(db$CRC)] =-mean(db$CRC,na.rm=T)\n",
    "db$PARTENAIRES[is.na(db$PARTENAIRES)] =mean(db$PARTENAIRES,na.rm=T)\n",
    "db$MAILING[is.na(db$MAILING)] =mean(db$MAILING,na.rm=T)\n",
    "db$PAP[is.na(db$PAP)] =mean(db$PAP,na.rm=T)\n",
    "db$DARTY[is.na(db$DARTY)]=mean(db$DARTY,na.rm=T)\n",
    "db$TV[is.na(db$TV)]=mean(db$TV,na.rm=T)\n",
    "\n",
    "# replace by single value\n",
    "db$TYPIRIS_N1[db$TYPIRIS_N1=='']='Z'\n",
    "db$PUIS_SOUS[is.na(db$PUIS_SOUS)] <- 0"
   ]
  },
  {
   "cell_type": "code",
   "execution_count": 6,
   "metadata": {
    "collapsed": true
   },
   "outputs": [],
   "source": [
    "# variables type lists\n",
    "num_var_name = c('AGE_TR_PRED_FMT','CAP_EC','CAR_CHAR','CEL_FMT','CODE_INSEE','CRC','DARTY','FACT_LIGN_FMT', \n",
    "               'MAILING','MA_RLV_FMT','NB_COHABITANT','PAP', 'PARTENAIRES', 'PAYEUR_DIVERG','PREA', 'PUIS_SOUS', 'REVENU_IRIS',\n",
    "               'TV', 'ass_fact','nb_cont_COUR_ENT', 'nb_cont_MAIL_ENT', 'nb_cont_RECLAMATION',\n",
    "               'nb_cont_RECLAMATION_6M', 'nb_cont_TEL_ENT', 'nb_contact_entrant')\n",
    "date_var_name  = c('DATE_ANC_CLI','DATE_EMMENAG','DT_DEBT_ASSR')\n",
    "factor_var_name =  c('CODE_STATUT_LOGEMENT','CODE_STATUT_OCCUP','CODE_TYPE_COMPTAGE','CODE_TYPE_HABITAT','DRP','FREQ_FACT','LB_PROF_PAYR',\n",
    "                    'OFFRE','SEG_VALEUR_N2_A','TYPE_OFFRE_GAZ','TYPIRIS_N1','Tarif_ach','produit')"
   ]
  },
  {
   "cell_type": "code",
   "execution_count": 7,
   "metadata": {
    "collapsed": true
   },
   "outputs": [],
   "source": [
    "# Transform of timestamps\n",
    "db$DATE_ANC_CLI_year = floor(as.integer(as.Date('2017-01-01') -as.Date(db$DATE_ANC_CLI))/365)\n",
    "db$DATE_EMMENAG_year = floor(as.integer(as.Date('2017-01-01') -as.Date(db$DATE_EMMENAG))/365)\n",
    "date_timestamp = as.POSIXlt(db$DT_DEBT_ASSR)\n",
    "db$DT_DEBT_ASSR_month = date_timestamp$mon\n",
    "db$DT_DEBT_ASSR_week_day = date_timestamp$wday\n",
    "db$DT_DEBT_ASSR_yday = as.integer( as.Date(db$DT_DEBT_ASSR)-as.Date('2015-01-01'))"
   ]
  },
  {
   "cell_type": "code",
   "execution_count": 8,
   "metadata": {
    "collapsed": false
   },
   "outputs": [],
   "source": [
    "# to save sometime all the factor data will not be used in this notebook\n",
    "db_final = db[,c(num_var_name,c(\"DT_DEBT_ASSR_yday\",\"DT_DEBT_ASSR_month\",\"DT_DEBT_ASSR_week_day\"))] "
   ]
  },
  {
   "cell_type": "code",
   "execution_count": 9,
   "metadata": {
    "collapsed": true
   },
   "outputs": [],
   "source": [
    "# seperate train & test\n",
    "train <- db_final[1:127472,]\n",
    "test <- db_final[127473:254945,]"
   ]
  },
  {
   "cell_type": "markdown",
   "metadata": {},
   "source": [
    "# Now we are ready for our Xgboost models"
   ]
  },
  {
   "cell_type": "markdown",
   "metadata": {},
   "source": [
    "# Tunning"
   ]
  },
  {
   "cell_type": "code",
   "execution_count": 10,
   "metadata": {
    "collapsed": false
   },
   "outputs": [],
   "source": [
    "# define parameters we are going to use\n",
    "params = list(                \"objective\" = \"binary:logistic\",\n",
    "                              \"eval_metric\" = \"auc\",\n",
    "                              \"eta\" = 0.5,\n",
    "                              \"max_depth\" =  4,\n",
    "                              \"min_child_weight\" = 10,\n",
    "                              \"subsample\" = 0.9,\n",
    "                              \"colsample_bytree\" = 0.9,\n",
    "                              \"nthread\" = 3\n",
    "                              )\n",
    "num_trees = 5 # to save time you can test with more num_trees to get a better performance by yourself   "
   ]
  },
  {
   "cell_type": "code",
   "execution_count": 11,
   "metadata": {
    "collapsed": false
   },
   "outputs": [
    {
     "name": "stdout",
     "output_type": "stream",
     "text": [
      "[0]\ttrain-auc:0.665743+0.023913\ttest-auc:0.657845+0.027283\n",
      "[1]\ttrain-auc:0.696028+0.023607\ttest-auc:0.686035+0.023313\n",
      "[2]\ttrain-auc:0.715902+0.014753\ttest-auc:0.710458+0.009973\n",
      "[3]\ttrain-auc:0.718558+0.017391\ttest-auc:0.711445+0.009693\n",
      "[4]\ttrain-auc:0.718996+0.018705\ttest-auc:0.712676+0.013812\n"
     ]
    }
   ],
   "source": [
    "# training by build in cv function (random split)\n",
    "xgb_cv = xgb.cv(param=params, data = as.matrix(train), label = goal, \n",
    "                nfold = 3, nrounds= num_trees)"
   ]
  },
  {
   "cell_type": "code",
   "execution_count": 12,
   "metadata": {
    "collapsed": false
   },
   "outputs": [
    {
     "name": "stdout",
     "output_type": "stream",
     "text": [
      "[0]\ttrain-auc:0.679082\n",
      "[1]\ttrain-auc:0.696815\n",
      "[2]\ttrain-auc:0.723818\n",
      "[3]\ttrain-auc:0.719857\n",
      "[4]\ttrain-auc:0.726335\n"
     ]
    }
   ],
   "source": [
    "# a voir pour la partie watchlist\n",
    "bst = xgboost(param=params, data = as.matrix(train), label = goal, nrounds=num_trees)"
   ]
  },
  {
   "cell_type": "code",
   "execution_count": 13,
   "metadata": {
    "collapsed": false
   },
   "outputs": [
    {
     "data": {},
     "metadata": {},
     "output_type": "display_data"
    },
    {
     "data": {
      "image/png": "[encoded data removed]",
      "text/plain": [
       "plot without title"
      ]
     },
     "metadata": {},
     "output_type": "display_data"
    }
   ],
   "source": [
    "# a mettre les bons lables\n",
    "importanceRaw <- xgb.importance( model = bst,label=train$label)\n",
    "xgb.plot.importance(importance_matrix = importanceRaw)"
   ]
  },
  {
   "cell_type": "markdown",
   "metadata": {},
   "source": [
    "# Train and prediction "
   ]
  },
  {
   "cell_type": "code",
   "execution_count": 14,
   "metadata": {
    "collapsed": false
   },
   "outputs": [
    {
     "name": "stdout",
     "output_type": "stream",
     "text": [
      "[0]\ttrain-auc:0.679147\n",
      "[1]\ttrain-auc:0.696972\n",
      "[2]\ttrain-auc:0.707186\n",
      "[3]\ttrain-auc:0.704921\n",
      "[4]\ttrain-auc:0.724995\n"
     ]
    }
   ],
   "source": [
    "bst = xgboost(param=params, data = as.matrix(train), label = goal, nrounds=num_trees)"
   ]
  },
  {
   "cell_type": "code",
   "execution_count": 21,
   "metadata": {
    "collapsed": false
   },
   "outputs": [],
   "source": [
    "pred = predict(bst,as.matrix(test))\n",
    "submission=read.csv(paste0(fold_ad,\"sample_submission.CSV\"))\n",
    "submission[\"predictions\"] = pred\n",
    "write.table(submission,file=paste0(fold_ad,\"myfirst_submission.CSV\"),sep=\",\",dec=\".\",quote=FALSE,row.names = FALSE)"
   ]
  },
  {
   "cell_type": "markdown",
   "metadata": {},
   "source": [
    "# Congratulations you have completed your first xgboost workshop!"
   ]
  }
 ],
 "metadata": {
  "anaconda-cloud": {},
  "kernelspec": {
   "display_name": "R",
   "language": "R",
   "name": "ir"
  },
  "language_info": {
   "codemirror_mode": "r",
   "file_extension": ".r",
   "mimetype": "text/x-r-source",
   "name": "R",
   "pygments_lexer": "r",
   "version": "3.3.1"
  }
 },
 "nbformat": 4,
 "nbformat_minor": 0
}
