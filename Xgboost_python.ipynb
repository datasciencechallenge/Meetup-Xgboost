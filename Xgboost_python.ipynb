{
 "cells": [
  {
   "cell_type": "markdown",
   "metadata": {},
   "source": [
    "# Xgboost workshop (R version)\n",
    "by Qi XU & Maxime KINET\n",
    "\n",
    "The goal of this notebook is to present the use of XGBoost in a practical case and some of the functionalities which makes it so useful. XGBoost is an implementation of a Gradient Boosted decision tree algorithm and is frequently used in winning solutions of data science competitions. XGBoost is an open source library, implemented in C++ with wrappers available in Python and R (among others). We have created two versions of this notebook, one in R and one in Python.\n",
    "\n",
    "The dataset we have chosen to illustrate our purposes comes from the recent B2C competition - Predict conversion rates on breakdown services. The goal was to predict the likelihood of residential customers to subscribe to a maintenance contract. \n",
    "\n",
    "More information on this dataset is available [here](https://datascience-challenge.engie.com/#/challenge/28733).\n",
    "\n",
    "\n",
    "## Before we begin...\n",
    "\n",
    "If you want to be able to run the notebook, you need to have XGBoost installed on your machine. Installation information is available on the [doc page of XGBoost](https://xgboost.readthedocs.io/en/latest/build.html).\n",
    "\n",
    "#### R users\n",
    "\n",
    "If you are a R user, XGBoost is now available as a CRAN package hence a simple `install.packages('xgboost')` should get you up and running.\n",
    "\n",
    "Aside from XGBoost, the following libraries are expected to be installed :\n",
    "\n",
    "1. ggplot2 (for graphics)\n",
    "2. Ckmeans.1d.dp (for variable importance plots)\n",
    "\n",
    "\n",
    "#### Python users\n",
    "\n",
    "Python users can use pip to install xgboost *provided* that they are not using windows. On windows, installation can be more complicated and we refer to the documentation for complete instructions.\n",
    "\n",
    "Aside from xgboost, we expect users to have the following libraries installed :\n",
    "1. pandas (for data frame manipulation)\n",
    "2. numpy (for scientific computing)\n",
    "3. matplotlib (for visualization)\n",
    "\n",
    "\n",
    "## A few words on XGBoost\n",
    "\n",
    "A lot has been written on XGBoost since its wide adoption by the datascience community. If you want to learn more about it, here are some links where you can start :\n",
    "\n",
    "1. [XGBoost documentation](https://xgboost.readthedocs.io/en/latest/)\n",
    "2. [XGBoost Github repository](https://github.com/dmlc/xgboost)\n",
    "3. [A presentation by Tianqi Chen](https://www.youtube.com/watch?v=zyjYlU7in3I)\n",
    "4. [A reference paper](http://dmlc.cs.washington.edu/data/pdf/XGBoostArxiv.pdf)\n",
    "\n",
    "\n",
    "## Import XGBoost and other packages "
   ]
  },
  {
   "cell_type": "code",
   "execution_count": null,
   "metadata": {
    "collapsed": false
   },
   "outputs": [],
   "source": [
    "%matplotlib inline\n",
    "import xgboost as xgb\n",
    "import pandas as pd"
   ]
  },
  {
   "cell_type": "markdown",
   "metadata": {},
   "source": [
    "## Load train and test data sets\n",
    "\n",
    "We assume that the files `train.CSV` and `test.CSV` are located in the same directory as the notebook. If it is not the case, you can replace the variable `workdir` by the full path to your working directory."
   ]
  },
  {
   "cell_type": "code",
   "execution_count": null,
   "metadata": {
    "collapsed": false
   },
   "outputs": [],
   "source": [
    "workdir=\"./\"\n",
    "# Read the csv file and store the data in a pandas dataframe\n",
    "train=pd.read_csv(workdir+\"train.CSV\")\n",
    "print('The Training set contains %d observations and %d variables' % train.shape)"
   ]
  },
  {
   "cell_type": "code",
   "execution_count": null,
   "metadata": {
    "collapsed": false
   },
   "outputs": [],
   "source": [
    "test =pd.read_csv(workdir+\"test.CSV\")\n",
    "print('The Test set contains %d observations and %d variables' % test.shape)"
   ]
  },
  {
   "cell_type": "code",
   "execution_count": null,
   "metadata": {
    "collapsed": false
   },
   "outputs": [],
   "source": [
    "# Isolate target variable\n",
    "target = train[\"souscrit\"]\n",
    "# Define the target variable for the test set as NaN.\n",
    "test[\"souscrit\"] = None\n",
    "# Bind Training and Test set. We do this to make sure that every operation is performed identically \n",
    "# on the training and on the test set\n",
    "db = pd.concat([train,test],axis=0)\n",
    "print('The Data set contains %d observations and %d variables' % db.shape)"
   ]
  },
  {
   "cell_type": "markdown",
   "metadata": {},
   "source": [
    "## Pre-processing\n",
    "\n",
    "Before firing XGBoost, we need to prepare the dataset. For this simple notebook, we will perform two tasks :\n",
    "1. Handle Missing values\n",
    "2. Convert all non-numerical variables to numerical.\n",
    "\n",
    "### Missing Values\n",
    "\n",
    "The data set contains many missing values on several variables. Let us count how many values are missing for each."
   ]
  },
  {
   "cell_type": "code",
   "execution_count": null,
   "metadata": {
    "collapsed": false
   },
   "outputs": [],
   "source": [
    "# this will print a summary of Missing Values count for each variable\n",
    "db.isnull().sum()"
   ]
  },
  {
   "cell_type": "markdown",
   "metadata": {},
   "source": [
    "There are different strategies to impute missing value and usually we would carefully look at the data and decide what is the best strategy for variables with missing values. However, for the sake of this exercice, we will use one of the nice feature of XGBoost which allow us to do ***nothing*** about missing value and leave them as they are.\n",
    "\n",
    "There are potentially 41 predictors, but we will not use all of them to facilitate the treatment in this tutorial. We will exclude for instance all the categorical variable and keep the numerical variables and the dates. "
   ]
  },
  {
   "cell_type": "code",
   "execution_count": null,
   "metadata": {
    "collapsed": true
   },
   "outputs": [],
   "source": [
    "# Names of the numerical variables\n",
    "num_var_name = ['AGE_TR_PRED_FMT','CAP_EC', 'CAR_CHAR', 'CEL_FMT', 'CRC', 'DARTY', 'FACT_LIGN_FMT',\n",
    "                'MAILING', 'MA_RLV_FMT','NB_COHABITANT', 'PAP', 'PARTENAIRES', 'PAYEUR_DIVERG', 'PREA', 'PUIS_SOUS', \n",
    "                'REVENU_IRIS', 'TV', 'ass_fact', 'nb_cont_COUR_ENT', 'nb_cont_MAIL_ENT', 'nb_cont_RECLAMATION',\n",
    "                'nb_cont_RECLAMATION_6M', 'nb_cont_TEL_ENT', 'nb_contact_entrant']"
   ]
  },
  {
   "cell_type": "markdown",
   "metadata": {},
   "source": [
    "As mentionned earlier, the dates need to be converted to numerical variables to be usable by XGBoost. For each date we can extract :\n",
    "* the month (number from 1 to 12)\n",
    "* the day of the week (number from 1 to 7)\n",
    "* the day of the year (number from 1 to 365)\n",
    "* the year\n",
    "\n",
    "For the variable `DT_DEBT_ASSR` we will extract the first three features, while for `DT_ANC_CLI` and `DT_EMMENAG` we will keep only the year which, intuitively is the most meaningful."
   ]
  },
  {
   "cell_type": "code",
   "execution_count": null,
   "metadata": {
    "collapsed": false
   },
   "outputs": [],
   "source": [
    "# Transform of timestamps\n",
    "def time_attr_frame(timestamp):\n",
    "    month    = timestamp.month\n",
    "    week_day = timestamp.weekday()\n",
    "    yday    = timestamp.timetuple().tm_yday # day of year (leak feature)\n",
    "    return month,week_day,yday\n",
    "\n",
    "def extract_year():\n",
    "    pass\n",
    "\n",
    "# Extract month, day of week and day of year from DT_DEBT_ASSR\n",
    "db[\"DT_DEBT_ASSR\"] = pd.to_datetime(db[\"DT_DEBT_ASSR\"],format='%Y-%m-%d')\n",
    "db[\"DT_DEBT_ASSR_month\"],db[\"DT_DEBT_ASSR_week_day\"],db[\"DT_DEBT_ASSR_yday\"]=zip(*db[\"DT_DEBT_ASSR\"].map(time_attr_frame))\n",
    "\n",
    "# Tranform DATE_ANC_CLI and DATE_EMMENAG to years\n",
    "db[\"DATE_ANC_CLI_year\"]=db[\"DATE_ANC_CLI\"].map(lambda x: int(x[0:4]))\n",
    "db[\"DATE_EMMENAG_year\"]=db[\"DATE_EMMENAG\"].map(lambda x: int(x[0][0:4]))"
   ]
  },
  {
   "cell_type": "markdown",
   "metadata": {},
   "source": [
    "Now we can construct the final data set from the numerical variables and the modified timestamps."
   ]
  },
  {
   "cell_type": "code",
   "execution_count": null,
   "metadata": {
    "collapsed": false
   },
   "outputs": [],
   "source": [
    "db_final = db[num_var_name + [\"DT_DEBT_ASSR_yday\",\"DT_DEBT_ASSR_month\",\"DT_DEBT_ASSR_week_day\",\"DATE_ANC_CLI_year\",\\\n",
    "                              \"DATE_EMMENAG_year\"]]"
   ]
  },
  {
   "cell_type": "markdown",
   "metadata": {},
   "source": [
    "And finally, we can split into training and test set and start building XGBoost models."
   ]
  },
  {
   "cell_type": "code",
   "execution_count": null,
   "metadata": {
    "collapsed": false
   },
   "outputs": [],
   "source": [
    "# seperate train & test\n",
    "train = db_final.iloc[0:127472,:]\n",
    "test  = db_final.iloc[127472:,:]"
   ]
  },
  {
   "cell_type": "code",
   "execution_count": null,
   "metadata": {
    "collapsed": false
   },
   "outputs": [],
   "source": [
    "# define parameters we are going to use\n",
    "params_1 = {\"nthread\":3,\n",
    "          \"objective\": \"binary:logistic\",\n",
    "          \"eval_metric\": \"auc\",\n",
    "          \"eta\": 0.5,\n",
    "          \"max_depth\": 1}\n",
    "num_trees = 100 "
   ]
  },
  {
   "cell_type": "markdown",
   "metadata": {},
   "source": [
    "### First Model\n",
    "\n",
    "The algorithm will be trained on the training set. To evaluate the performance of the algorithm accurately, we have to use data that the algorithm has never seen, otherwise the model will be overfitted. \n",
    "\n",
    "We will randomly select a subset from the training set and use it as a validation set. That is, we will predict the target on the validation set, and compare it to the true class to obtain a rough estimate of what the auc will be on the test set."
   ]
  },
  {
   "cell_type": "code",
   "execution_count": null,
   "metadata": {
    "collapsed": false
   },
   "outputs": [],
   "source": [
    "# validation set consist of 20000 randomly selected clients\n",
    "xvalid=train.sample(n=20000,random_state=200)\n",
    "idx=xvalid.index\n",
    "xtrain=train.drop(idx)\n",
    "target_train=target.drop(idx)\n",
    "target_valid=target[idx]"
   ]
  },
  {
   "cell_type": "markdown",
   "metadata": {},
   "source": [
    "The next important step is to convert the training and validation set to a DMatrix format (which is a xgboost-specific format). We do that in the following piece of code."
   ]
  },
  {
   "cell_type": "code",
   "execution_count": null,
   "metadata": {
    "collapsed": false
   },
   "outputs": [],
   "source": [
    "dtrain    = xgb.DMatrix(xtrain, target_train, missing = None)\n",
    "dvalid    = xgb.DMatrix(xvalid, target_valid, missing = None)"
   ]
  },
  {
   "cell_type": "markdown",
   "metadata": {},
   "source": [
    "Side note : `None` is the default for missing parameter in python, but you can change it if you use another convention in your dataset. \n",
    "For instance, you can choose that all values equal to `-99999` correspond to a missing value and xgboost will treat it as missing.\n",
    "\n",
    "Now let us train the model. In Xgboost, we can pass as argument a *watchlist* which is a list of dataset for which we wish to compute the performance metric regularly. In the watch list, we put our validation set and our training set."
   ]
  },
  {
   "cell_type": "code",
   "execution_count": null,
   "metadata": {
    "collapsed": false
   },
   "outputs": [],
   "source": [
    "watchlist = [(dvalid,\"valid\"),(dtrain,\"train\")]\n",
    "xgb_simple = xgb.train(params_1,dtrain,num_trees,watchlist,verbose_eval=10)"
   ]
  },
  {
   "cell_type": "markdown",
   "metadata": {},
   "source": [
    "Great! It works and we can even expect a pretty decent score (auc ~ 0.76). Now let us see how we can improve the algorithm.\n",
    "\n",
    "### Second model\n",
    "\n",
    "First, we should improve our validation methodolgy. Watchlist are useful for fast evaluation, but they can be inacurate. We will make a proper cross-validation instead.\n",
    "\n",
    "Second there is the possibility in XGBoost to tell it to stop when the evaluation metric (on the validation data) does not improve for a certain number of iterations. This is very useful to evaluate the number of iterations that are needed to optimize performance. We will tell xgboost to step if the auc does not increase for 10 iterations"
   ]
  },
  {
   "cell_type": "code",
   "execution_count": null,
   "metadata": {
    "collapsed": false
   },
   "outputs": [],
   "source": [
    "# rebuild the DMatrix with full training set.\n",
    "dtrain    = xgb.DMatrix(train, target, missing = None)\n",
    "# Set the maximum number of trees to a high value\n",
    "num_trees = 1000\n",
    "# Launch 5-fold cross- validation.\n",
    "xgb_cv = xgb.cv(params_1,dtrain,num_trees,nfold=5,early_stopping_rounds=10,verbose_eval=25,seed=519)\n",
    "# find optimal number of iterations\n",
    "print('Highest AUC is %f obtained at iteration %d' % (xgb_cv['test-auc-mean'].max(),xgb_cv['test-auc-mean'].idxmax()))"
   ]
  },
  {
   "cell_type": "markdown",
   "metadata": {},
   "source": [
    "### Tuning\n",
    "\n",
    "Now we can play with some parameters of XGBoost. We can modify parameters to improve the accuracy of the booster:\n",
    "1. Reducing the learning rate : eta = 0.1\n",
    "2. Increasing the depth of the trees : we allow trees to grow a bit deeper (up to depth =5).\n",
    "\n",
    "Next, since the trees we grow are more complex, we might want to tune other parameters to avoid overfitting\n",
    "1. min_child_weight defines the minimum (weighted) number of observations in a child to split a node.\n",
    "2. subsample : to introduce randomization, we can use only a subset of the training set to grow the trees. We set it to .9 (i.e. each tree will be trained on 90% of the data).\n",
    "\n",
    "With these adjusted parameters we can retrain the model."
   ]
  },
  {
   "cell_type": "code",
   "execution_count": null,
   "metadata": {
    "collapsed": false
   },
   "outputs": [],
   "source": [
    "# define New set of parameters\n",
    "params_2 = {\"nthread\":3,\n",
    "          \"objective\": \"binary:logistic\",\n",
    "          \"eval_metric\": \"auc\",\n",
    "          \"eta\": 0.1,\n",
    "          \"max_depth\": 4,\n",
    "          \"min_child_weight\": 20,\n",
    "          \"subsample\": 1.0\n",
    "                              }\n",
    "\n",
    "# Launch 5-fold cross- validation.\n",
    "xgb_cv = xgb.cv(params_2,\n",
    "                dtrain,\n",
    "                num_trees,\n",
    "                nfold=5,\n",
    "                early_stopping_rounds=10,\n",
    "                verbose_eval=25,\n",
    "                seed=519)\n",
    "# find optimal number of iterations\n",
    "print('Highest AUC is %f obtained at iteration %d' % (xgb_cv['test-auc-mean'].max(),xgb_cv['test-auc-mean'].idxmax()))"
   ]
  },
  {
   "cell_type": "markdown",
   "metadata": {},
   "source": [
    "Fantastic, we have improved our score!"
   ]
  },
  {
   "cell_type": "markdown",
   "metadata": {},
   "source": [
    "### Variable Importance\n",
    "\n",
    "Another great feature of XGBoost is its ability to compute an importance score for the predictors. This allow to understand better on what ground the prediction are made. \n",
    "\n",
    "In the code snippet below, we first retrain the model on the full training set, with the optimal parameters found above, and then we plot the variables importance in a bar chart."
   ]
  },
  {
   "cell_type": "code",
   "execution_count": null,
   "metadata": {
    "collapsed": false
   },
   "outputs": [],
   "source": [
    "# train xgboost on the full training set\n",
    "xgb_final = xgb.train(params_2,dtrain,160)\n",
    "# feature importance to see which features are more importants than others\n",
    "xgb.plot_importance(xgb_final,importance_type=\"gain\",xlabel=\"gain\")"
   ]
  },
  {
   "cell_type": "markdown",
   "metadata": {},
   "source": [
    "### Test set prediction \n",
    "\n",
    "The last think that remain to do is to make a prediction on the test set, and to prepare the submission file. "
   ]
  },
  {
   "cell_type": "code",
   "execution_count": null,
   "metadata": {
    "collapsed": false
   },
   "outputs": [],
   "source": [
    "dtest = xgb.DMatrix(test)\n",
    "pred = xgb_final.predict(dtest)"
   ]
  },
  {
   "cell_type": "code",
   "execution_count": null,
   "metadata": {
    "collapsed": false
   },
   "outputs": [],
   "source": [
    "submission = pd.read_csv(workdir+\"sample_submission.CSV\")\n",
    "submission[\"predictions\"]=pred\n",
    "submission.to_csv(\"myfirst_submission.CSV\",index=False)"
   ]
  },
  {
   "cell_type": "markdown",
   "metadata": {},
   "source": [
    "## Congratulations !!\n",
    "\n",
    "You have completed your first xgboost workshop!\n",
    "\n",
    "Few notes :\n",
    "\n",
    "- XGBoost is also available in scikit-learn, which is definitely worth exploring\n",
    "- Things we have not covered : sparse matrix, other metrics, customised objectives,...\n",
    "- There are most certainly some XGBoost tricks that we don't know about!"
   ]
  },
  {
   "cell_type": "code",
   "execution_count": null,
   "metadata": {
    "collapsed": true
   },
   "outputs": [],
   "source": []
  }
 ],
 "metadata": {
  "anaconda-cloud": {},
  "kernelspec": {
   "display_name": "Python [conda root]",
   "language": "python",
   "name": "conda-root-py"
  },
  "language_info": {
   "codemirror_mode": {
    "name": "ipython",
    "version": 3
   },
   "file_extension": ".py",
   "mimetype": "text/x-python",
   "name": "python",
   "nbconvert_exporter": "python",
   "pygments_lexer": "ipython3",
   "version": "3.5.2"
  }
 },
 "nbformat": 4,
 "nbformat_minor": 0
}
