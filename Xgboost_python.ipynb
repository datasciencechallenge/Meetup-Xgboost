{
 "cells": [
  {
   "cell_type": "markdown",
   "metadata": {},
   "source": [
    "# Xgboost workshop (python version)\n",
    "by Qi XU & Maxime KINET "
   ]
  },
  {
   "cell_type": "markdown",
   "metadata": {},
   "source": [
    "# Competition: B2C - Predict conversion rates on breakdown services"
   ]
  },
  {
   "cell_type": "markdown",
   "metadata": {},
   "source": [
    "For more detail see https://datascience-challenge.engie.com/#/challenge/28733"
   ]
  },
  {
   "cell_type": "markdown",
   "metadata": {},
   "source": [
    "# Import Xgboost and other packages "
   ]
  },
  {
   "cell_type": "code",
   "execution_count": 1,
   "metadata": {
    "collapsed": true
   },
   "outputs": [],
   "source": [
    "get_ipython().magic(u'matplotlib inline')\n",
    "import xgboost as xgb\n",
    "import pandas as pd\n",
    "import numpy as np\n",
    "from scipy import sparse\n",
    "from sklearn.preprocessing import LabelEncoder\n",
    "from sklearn.cross_validation import KFold"
   ]
  },
  {
   "cell_type": "markdown",
   "metadata": {},
   "source": [
    "# Now we need to load the train and test data sets"
   ]
  },
  {
   "cell_type": "code",
   "execution_count": 2,
   "metadata": {
    "collapsed": false
   },
   "outputs": [],
   "source": [
    "fold_ad = \"C:/Users/IA2069/Documents/MK2016/\"\n",
    "train=pd.read_csv(fold_ad+\"train.CSV\") # change to your local file address  \n",
    "train.head()\n",
    "goal = train[\"souscrit\"]"
   ]
  },
  {
   "cell_type": "code",
   "execution_count": 3,
   "metadata": {
    "collapsed": false
   },
   "outputs": [
    {
     "data": {
      "text/html": [
       "<div>\n",
       "<table border=\"1\" class=\"dataframe\">\n",
       "  <thead>\n",
       "    <tr style=\"text-align: right;\">\n",
       "      <th></th>\n",
       "      <th>DT_DEBT_ASSR</th>\n",
       "      <th>TYPE_OFFRE_GAZ</th>\n",
       "      <th>Tarif_ach</th>\n",
       "      <th>CODE_TYPE_COMPTAGE</th>\n",
       "      <th>PUIS_SOUS</th>\n",
       "      <th>PAYEUR_DIVERG</th>\n",
       "      <th>OFFRE</th>\n",
       "      <th>CAP_EC</th>\n",
       "      <th>CODE_STATUT_LOGEMENT</th>\n",
       "      <th>CODE_TYPE_HABITAT</th>\n",
       "      <th>...</th>\n",
       "      <th>nb_contact_entrant</th>\n",
       "      <th>LB_PROF_PAYR</th>\n",
       "      <th>ass_fact</th>\n",
       "      <th>CRC</th>\n",
       "      <th>PARTENAIRES</th>\n",
       "      <th>MAILING</th>\n",
       "      <th>PAP</th>\n",
       "      <th>DARTY</th>\n",
       "      <th>TV</th>\n",
       "      <th>produit</th>\n",
       "    </tr>\n",
       "  </thead>\n",
       "  <tbody>\n",
       "    <tr>\n",
       "      <th>0</th>\n",
       "      <td>2015-11-03</td>\n",
       "      <td>OM</td>\n",
       "      <td>T2</td>\n",
       "      <td>SIMP</td>\n",
       "      <td>6.0</td>\n",
       "      <td>0</td>\n",
       "      <td>DUAL</td>\n",
       "      <td>0</td>\n",
       "      <td>PRV</td>\n",
       "      <td>H1</td>\n",
       "      <td>...</td>\n",
       "      <td>6</td>\n",
       "      <td>SANS INCIDENT DE PAIEMENT</td>\n",
       "      <td>0</td>\n",
       "      <td>4.0</td>\n",
       "      <td>0.0</td>\n",
       "      <td>0.0</td>\n",
       "      <td>0.0</td>\n",
       "      <td>0.0</td>\n",
       "      <td>0.0</td>\n",
       "      <td>DEGEX+</td>\n",
       "    </tr>\n",
       "    <tr>\n",
       "      <th>1</th>\n",
       "      <td>2015-08-27</td>\n",
       "      <td>OM</td>\n",
       "      <td>T1</td>\n",
       "      <td>SIMP</td>\n",
       "      <td>6.0</td>\n",
       "      <td>0</td>\n",
       "      <td>DUAL</td>\n",
       "      <td>0</td>\n",
       "      <td>PRV</td>\n",
       "      <td>H2</td>\n",
       "      <td>...</td>\n",
       "      <td>0</td>\n",
       "      <td>SANS INCIDENT DE PAIEMENT</td>\n",
       "      <td>0</td>\n",
       "      <td>0.0</td>\n",
       "      <td>2.0</td>\n",
       "      <td>0.0</td>\n",
       "      <td>0.0</td>\n",
       "      <td>0.0</td>\n",
       "      <td>0.0</td>\n",
       "      <td>DEPEX+</td>\n",
       "    </tr>\n",
       "  </tbody>\n",
       "</table>\n",
       "<p>2 rows × 41 columns</p>\n",
       "</div>"
      ],
      "text/plain": [
       "  DT_DEBT_ASSR TYPE_OFFRE_GAZ Tarif_ach CODE_TYPE_COMPTAGE  PUIS_SOUS  \\\n",
       "0   2015-11-03             OM        T2               SIMP        6.0   \n",
       "1   2015-08-27             OM        T1               SIMP        6.0   \n",
       "\n",
       "   PAYEUR_DIVERG OFFRE  CAP_EC CODE_STATUT_LOGEMENT CODE_TYPE_HABITAT  \\\n",
       "0              0  DUAL       0                  PRV                H1   \n",
       "1              0  DUAL       0                  PRV                H2   \n",
       "\n",
       "    ...    nb_contact_entrant               LB_PROF_PAYR ass_fact  CRC  \\\n",
       "0   ...                     6  SANS INCIDENT DE PAIEMENT        0  4.0   \n",
       "1   ...                     0  SANS INCIDENT DE PAIEMENT        0  0.0   \n",
       "\n",
       "   PARTENAIRES MAILING  PAP DARTY   TV  produit  \n",
       "0          0.0     0.0  0.0   0.0  0.0   DEGEX+  \n",
       "1          2.0     0.0  0.0   0.0  0.0   DEPEX+  \n",
       "\n",
       "[2 rows x 41 columns]"
      ]
     },
     "execution_count": 3,
     "metadata": {},
     "output_type": "execute_result"
    }
   ],
   "source": [
    "test =pd.read_csv(fold_ad+\"test.CSV\") # change to your local file address\n",
    "test.head(2)"
   ]
  },
  {
   "cell_type": "markdown",
   "metadata": {},
   "source": [
    "# PRE PROCESSING "
   ]
  },
  {
   "cell_type": "code",
   "execution_count": 4,
   "metadata": {
    "collapsed": false
   },
   "outputs": [
    {
     "data": {
      "text/plain": [
       "(254945, 42)"
      ]
     },
     "execution_count": 4,
     "metadata": {},
     "output_type": "execute_result"
    }
   ],
   "source": [
    "#Train test blind\n",
    "test[\"souscrit\"] = np.nan\n",
    "db = pd.concat([train,test],axis=0)\n",
    "db.shape"
   ]
  },
  {
   "cell_type": "code",
   "execution_count": 5,
   "metadata": {
    "collapsed": false
   },
   "outputs": [],
   "source": [
    "# fill empty values\n",
    "# replace by mean\n",
    "mean_replace_list = [\"AGE_TR_PRED_FMT\",\"REVENU_IRIS\",\"CAR_CHAR\",\"CODE_INSEE\",\"CRC\",\"PARTENAIRES\",\"MAILING\",\"PAP\",\"DARTY\",\"TV\"]\n",
    "db[mean_replace_list]=db[mean_replace_list].fillna(db[mean_replace_list].mean())\n",
    "\n",
    "# replace by single value\n",
    "db[\"PUIS_SOUS\"]=db[\"PUIS_SOUS\"].fillna(0)\n",
    "db[\"TYPIRIS_N1\"]=db[\"TYPIRIS_N1\"].fillna(\"z\")"
   ]
  },
  {
   "cell_type": "code",
   "execution_count": 6,
   "metadata": {
    "collapsed": true
   },
   "outputs": [],
   "source": [
    "# variables type lists\n",
    "num_var_name = [u'AGE_TR_PRED_FMT', u'CAP_EC', u'CAR_CHAR', u'CEL_FMT', u'CODE_INSEE',u'CRC',u'DARTY',u'FACT_LIGN_FMT', \n",
    "               u'MAILING', u'MA_RLV_FMT',u'NB_COHABITANT',u'PAP', u'PARTENAIRES', u'PAYEUR_DIVERG',u'PREA', u'PUIS_SOUS', u'REVENU_IRIS',\n",
    "               u'TV', u'ass_fact',u'nb_cont_COUR_ENT', u'nb_cont_MAIL_ENT', u'nb_cont_RECLAMATION',\n",
    "               u'nb_cont_RECLAMATION_6M', u'nb_cont_TEL_ENT', u'nb_contact_entrant']\n",
    "date_var_name  = [u'DATE_ANC_CLI',u'DATE_EMMENAG',u'DT_DEBT_ASSR']\n",
    "factor_var_name =  [u'CODE_STATUT_LOGEMENT', u'CODE_STATUT_OCCUP', u'CODE_TYPE_COMPTAGE',u'CODE_TYPE_HABITAT',u'DRP', u'FREQ_FACT', u'LB_PROF_PAYR',\n",
    "                   u'OFFRE',  u'SEG_VALEUR_N2_A',u'TYPE_OFFRE_GAZ', u'TYPIRIS_N1', u'Tarif_ach', u'produit']"
   ]
  },
  {
   "cell_type": "code",
   "execution_count": 7,
   "metadata": {
    "collapsed": false
   },
   "outputs": [],
   "source": [
    "# Transform of timestamps\n",
    "def time_attr_frame(timestamp):\n",
    "    month    = timestamp.month\n",
    "    week_day = timestamp.weekday()\n",
    "    yday    = timestamp.timetuple().tm_yday # day of year (leak feature)\n",
    "    return pd.Series({\"month\":month,\"week_day\":week_day,\"yday\":yday})\n",
    "\n",
    "db[\"DT_DEBT_ASSR\"] = pd.to_datetime(db[\"DT_DEBT_ASSR\"], format='%Y-%m-%d')\n",
    "db[[\"DT_DEBT_ASSR_yday\",\"DT_DEBT_ASSR_month\",\"DT_DEBT_ASSR_week_day\"]]=db[[\"DT_DEBT_ASSR\"]].apply(lambda x:time_attr_frame(x[0]),axis=1)\n"
   ]
  },
  {
   "cell_type": "code",
   "execution_count": 8,
   "metadata": {
    "collapsed": false
   },
   "outputs": [],
   "source": [
    "# Tranform to years\n",
    "db[\"DATE_ANC_CLI_year\"]=db[[\"DATE_ANC_CLI\"]].apply(lambda x: int(x[0][0:4]),axis=1)\n",
    "db[\"DATE_EMMENAG_year\"]=db[[\"DATE_EMMENAG\"]].apply(lambda x: int(x[0][0:4]),axis=1)"
   ]
  },
  {
   "cell_type": "code",
   "execution_count": 9,
   "metadata": {
    "collapsed": false
   },
   "outputs": [],
   "source": [
    "# to save sometime all the factor data will not be used in this notebook\n",
    "db_final = db[num_var_name + [\"DT_DEBT_ASSR_yday\",\"DT_DEBT_ASSR_month\",\"DT_DEBT_ASSR_week_day\",\"DATE_ANC_CLI_year\",\"DATE_EMMENAG_year\"]]"
   ]
  },
  {
   "cell_type": "code",
   "execution_count": 10,
   "metadata": {
    "collapsed": false
   },
   "outputs": [],
   "source": [
    "# seperate train & test\n",
    "train = db_final.iloc[0:127472,:]\n",
    "test  = db_final.iloc[127472:254945,:]"
   ]
  },
  {
   "cell_type": "markdown",
   "metadata": {},
   "source": [
    "# Now we are ready for our Xgboost models"
   ]
  },
  {
   "cell_type": "markdown",
   "metadata": {},
   "source": [
    "# Tunning"
   ]
  },
  {
   "cell_type": "code",
   "execution_count": 11,
   "metadata": {
    "collapsed": false
   },
   "outputs": [],
   "source": [
    "# define parameters we are going to use\n",
    "params = {                    \"objective\": \"binary:logistic\",\n",
    "                              \"eval_metric\": \"auc\",\n",
    "                              \"eta\": 0.5,\n",
    "                              \"max_depth\": 4,\n",
    "                              \"min_child_weight\": 10,\n",
    "                              \"subsample\": 0.9,\n",
    "                              \"colsample_bytree\": 0.9,\n",
    "                              \"nthread\":3\n",
    "                              }\n",
    "num_trees = 5 # to save time you can test with more num_trees to get a better performance by yourself                      "
   ]
  },
  {
   "cell_type": "code",
   "execution_count": 12,
   "metadata": {
    "collapsed": false
   },
   "outputs": [],
   "source": [
    "# training by build in cv function (random split)\n",
    "dtrain    = xgb.DMatrix(train,goal)\n",
    "xgb_cv = xgb.cv(params,dtrain,num_trees,nfold=3)"
   ]
  },
  {
   "cell_type": "code",
   "execution_count": 13,
   "metadata": {
    "collapsed": false
   },
   "outputs": [
    {
     "data": {
      "text/html": [
       "<div>\n",
       "<table border=\"1\" class=\"dataframe\">\n",
       "  <thead>\n",
       "    <tr style=\"text-align: right;\">\n",
       "      <th></th>\n",
       "      <th>test-auc-mean</th>\n",
       "      <th>test-auc-std</th>\n",
       "      <th>train-auc-mean</th>\n",
       "      <th>train-auc-std</th>\n",
       "    </tr>\n",
       "  </thead>\n",
       "  <tbody>\n",
       "    <tr>\n",
       "      <th>0</th>\n",
       "      <td>0.679603</td>\n",
       "      <td>0.014124</td>\n",
       "      <td>0.681706</td>\n",
       "      <td>0.007878</td>\n",
       "    </tr>\n",
       "    <tr>\n",
       "      <th>1</th>\n",
       "      <td>0.699760</td>\n",
       "      <td>0.017512</td>\n",
       "      <td>0.701800</td>\n",
       "      <td>0.014970</td>\n",
       "    </tr>\n",
       "    <tr>\n",
       "      <th>2</th>\n",
       "      <td>0.714073</td>\n",
       "      <td>0.005910</td>\n",
       "      <td>0.718768</td>\n",
       "      <td>0.005459</td>\n",
       "    </tr>\n",
       "    <tr>\n",
       "      <th>3</th>\n",
       "      <td>0.715800</td>\n",
       "      <td>0.003370</td>\n",
       "      <td>0.719384</td>\n",
       "      <td>0.006081</td>\n",
       "    </tr>\n",
       "    <tr>\n",
       "      <th>4</th>\n",
       "      <td>0.723803</td>\n",
       "      <td>0.002257</td>\n",
       "      <td>0.728477</td>\n",
       "      <td>0.003604</td>\n",
       "    </tr>\n",
       "  </tbody>\n",
       "</table>\n",
       "</div>"
      ],
      "text/plain": [
       "   test-auc-mean  test-auc-std  train-auc-mean  train-auc-std\n",
       "0       0.679603      0.014124        0.681706       0.007878\n",
       "1       0.699760      0.017512        0.701800       0.014970\n",
       "2       0.714073      0.005910        0.718768       0.005459\n",
       "3       0.715800      0.003370        0.719384       0.006081\n",
       "4       0.723803      0.002257        0.728477       0.003604"
      ]
     },
     "execution_count": 13,
     "metadata": {},
     "output_type": "execute_result"
    }
   ],
   "source": [
    "# to see cv score\n",
    "xgb_cv"
   ]
  },
  {
   "cell_type": "code",
   "execution_count": 14,
   "metadata": {
    "collapsed": false
   },
   "outputs": [
    {
     "name": "stdout",
     "output_type": "stream",
     "text": [
      "[0]\teval-auc:0.670408\ttrain-auc:0.672514\n",
      "[1]\teval-auc:0.685273\ttrain-auc:0.689972\n",
      "[2]\teval-auc:0.693844\ttrain-auc:0.698377\n",
      "[3]\teval-auc:0.697499\ttrain-auc:0.699106\n",
      "[4]\teval-auc:0.700995\ttrain-auc:0.703742\n",
      "[0]\teval-auc:0.690358\ttrain-auc:0.690839\n",
      "[1]\teval-auc:0.71466\ttrain-auc:0.717907\n",
      "[2]\teval-auc:0.71314\ttrain-auc:0.715997\n",
      "[3]\teval-auc:0.723104\ttrain-auc:0.72469\n",
      "[4]\teval-auc:0.723587\ttrain-auc:0.730677\n",
      "[0]\teval-auc:0.667416\ttrain-auc:0.673451\n",
      "[1]\teval-auc:0.686865\ttrain-auc:0.695726\n",
      "[2]\teval-auc:0.690206\ttrain-auc:0.698749\n",
      "[3]\teval-auc:0.689627\ttrain-auc:0.69853\n",
      "[4]\teval-auc:0.705706\ttrain-auc:0.714329\n"
     ]
    }
   ],
   "source": [
    "# training by watchlist (can use custom cv split strategies)\n",
    "data_len = 127472\n",
    "skf = KFold(data_len,n_folds=3,shuffle= True)\n",
    "for train_index,test_index in skf:\n",
    "    train_train = train.iloc[train_index,:]\n",
    "    train_test  = train.iloc[test_index,:]\n",
    "    goal_train  = goal.iloc[train_index]\n",
    "    goal_test   = goal.iloc[test_index]\n",
    "    \n",
    "    dtrain_cv    = xgb.DMatrix(train_train,goal_train)\n",
    "    dtest_cv     = xgb.DMatrix(train_test, goal_test)\n",
    "    watchlist = [(dtest_cv,\"eval\"),(dtrain_cv,\"train\")]\n",
    "    xgb_cv = xgb.train(params,dtrain_cv,num_trees,watchlist)"
   ]
  },
  {
   "cell_type": "code",
   "execution_count": 15,
   "metadata": {
    "collapsed": false
   },
   "outputs": [
    {
     "data": {
      "text/plain": [
       "<matplotlib.axes._subplots.AxesSubplot at 0x3d07a1d0>"
      ]
     },
     "execution_count": 15,
     "metadata": {},
     "output_type": "execute_result"
    },
    {
     "data": {
      "image/png": "[encoded data removed]",
      "text/plain": [
       "<matplotlib.figure.Figure at 0x4fdc7c50>"
      ]
     },
     "metadata": {},
     "output_type": "display_data"
    }
   ],
   "source": [
    "# feature importance to see which features are more importants than others\n",
    "xgb.plot_importance(xgb_cv)"
   ]
  },
  {
   "cell_type": "markdown",
   "metadata": {},
   "source": [
    "# Train and prediction "
   ]
  },
  {
   "cell_type": "code",
   "execution_count": 16,
   "metadata": {
    "collapsed": false
   },
   "outputs": [],
   "source": [
    "xgb_final = xgb.train(params,dtrain)\n",
    "dtest    = xgb.DMatrix(test)\n",
    "pred = xgb_final.predict(dtest)"
   ]
  },
  {
   "cell_type": "code",
   "execution_count": 17,
   "metadata": {
    "collapsed": true
   },
   "outputs": [],
   "source": [
    "submission = pd.read_csv(fold_ad+\"sample_submission.CSV\")\n",
    "submission[\"predictions\"]=pred\n",
    "submission.to_csv(fold_ad + \"myfirst_submission.CSV\",index=False)"
   ]
  },
  {
   "cell_type": "markdown",
   "metadata": {},
   "source": [
    "# Congratulations you have completed your first xgboost workshop!"
   ]
  }
 ],
 "metadata": {
  "anaconda-cloud": {},
  "kernelspec": {
   "display_name": "Python [Root]",
   "language": "python",
   "name": "Python [Root]"
  },
  "language_info": {
   "codemirror_mode": {
    "name": "ipython",
    "version": 2
   },
   "file_extension": ".py",
   "mimetype": "text/x-python",
   "name": "python",
   "nbconvert_exporter": "python",
   "pygments_lexer": "ipython2",
   "version": "2.7.12"
  }
 },
 "nbformat": 4,
 "nbformat_minor": 0
}
